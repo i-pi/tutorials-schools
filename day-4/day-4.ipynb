{
 "cells": [
  {
   "cell_type": "markdown",
   "metadata": {},
   "source": [
    "<h1><span style=\"font-family:Georgia, serif;\"><strong><span style=\"font-size:24px;\">Instantons</span></strong>\n",
    "</span></h1>\n",
    "<h2>Computing instanton rates using i-PI</h2>\n",
    "\n",
    "In this exercises we will use i-PI not to run molecular dynamics but instead to optimize stationary points on the potential-energy surface. Then by simple extension, the ring-polymer instanton will be found which can be used to compute the thermal rate of a chemical reaction including tunnelling effects.\n",
    "The example which we will use is for the gas-phase bimolecular scattering reaction of H + CH_4 . This requires multiple runs of i-PI for the different stationary points on the surface followed by one postprocessing calculation to combine all the data to compute the rate.\n",
    "Full details of the instanton approach are described in [1]."
   ]
  },
  {
   "cell_type": "code",
   "execution_count": 2,
   "metadata": {},
   "outputs": [],
   "source": [
    "import numpy as np\n",
    "from matplotlib import pyplot as plt\n",
    "from matplotlib import cycler\n",
    "from scipy import constants\n",
    "\n",
    "plt.rc('text', usetex=True)\n",
    "plt.rc('ps', usedistiller = 'xpdf')\n",
    "plt.rcParams['legend.fontsize'] = 'x-large'\n",
    "plt.rcParams['axes.labelsize'] = 'x-large'\n",
    "plt.rcParams['axes.titlesize'] = 'x-large'\n",
    "plt.rcParams['xtick.labelsize'] = 'x-large'\n",
    "plt.rcParams['ytick.labelsize'] = 'x-large'\n",
    "params = {'figure.figsize':(12, 5)}\n",
    "plt.rcParams['axes.prop_cycle'] = cycler(color=['r','b','k','g','y','c'])"
   ]
  },
  {
   "cell_type": "markdown",
   "metadata": {},
   "source": [
    "A typical workflow is summarized as follows:\n",
    "\n",
    "1. Optimize the minimum or minima and perform normal-mode analysis.\n",
    "2. Optimize the transition state and perform normal-mode analysis.\n",
    "3. Make an initial guess for an N = 16 configuration.\n",
    "4. Compute Hessians of each bead. (This can be done approximately.)\n",
    "5. Optimize N = 16 instanton using eigenvector following, computing gradients at each iteration, and using the Powell update formula on the ring-polymer Hessian.\n",
    "6. Double number of beads by interpolation of positions and Hessians to give new guess configuration.\n",
    "7. Optimize with Newton-Raphson, computing gradients at each iteration, and using the Powell update formula on the ring-polymer Hessian.\n",
    "8. Recompute Hessians for each bead. (This must be done accurately.)\n",
    "9. Evaluate the fluctuation terms and hence the rate, k .\n",
    "10. Return to step 7 until the rate converges.\n",
    "\n",
    "If rates are required at more than one temperature, it is recommended to start with those closest to the crossover temperature and cool sequentially, again using initial guesses from the previous optimizations."
   ]
  },
  {
   "cell_type": "markdown",
   "metadata": {},
   "source": [
    "<h2>Exercise 1 - Optimizing and analysing the reactant</h2>\n",
    "\n",
    "1. Go to the folder `input/reactant/minimization`. A good initial guess has been provided in `init.xyz` and the input file `input.xml`. Look at the input file which should be fairly self explanatory. Note that the text between `<!--` and `-->` is a comment.\n",
    "Then run i-PI using\n",
    "\n",
    "    `$ i-pi input.xml &`\n",
    "\n",
    "    and the driver using\n",
    "    \n",
    "    `$ i-pi-driver -m ch4hcbe -u`\n",
    "\n",
    "\tThe simulation takes 31 steps and the final geometry can be seen in the last frame in `min.xc.xyz`. Once you finish this exercise, you could come back here and try to get the optimization to finish in fewer steps, e.g. by changing `sd` to one of the other optimizers.\n",
    "\n",
    "    Note that as this is a bimolecular reaction, the H and the CH4 should be well separated and we have used a very large box size. We have used the CBE potential-energy surface [2].\n",
    "\n",
    "2. Next, go to the folder `input/reactant/phonons` and copy the optimized geometry just obtained (last 8 lines) into a new file called `init.xyz` . We will now compute the hessian of this minimum. Run \n",
    "\n",
    "\t`$ i-pi input.xml &`\n",
    "    \n",
    "\t`$ i-pi-driver -m ch4hcbe -u`\n",
    "\t\n",
    "    The hessian is saved in `phonons.hess` and its eigenvalues in `phonons.eigval`. Check that it has the required number (9) of almost zero eigenvalues. Why?"
   ]
  },
  {
   "cell_type": "code",
   "execution_count": 15,
   "metadata": {},
   "outputs": [
    {
     "data": {
      "image/png": "[encoded data removed]",
      "text/plain": [
       "<Figure size 432x288 with 1 Axes>"
      ]
     },
     "metadata": {
      "needs_background": "light"
     },
     "output_type": "display_data"
    }
   ],
   "source": [
    "eigvals = np.genfromtxt('input/reactant/phonons/min.phonons.eigval')\n",
    "plt.plot(eigvals,'x')\n",
    "plt.xlabel('$i$')\n",
    "plt.ylabel('$\\lambda_i$')\n",
    "plt.show()"
   ]
  },
  {
   "cell_type": "markdown",
   "metadata": {},
   "source": [
    "<h2>Exercise 2 - Optimizing and analysing the transition state</h2>\n",
    "\n",
    "Go to `input/TS` and optimize the transition state using the usual run commands. Here i-PI treats the TS search as a one-bead instanton optimization. The simulation takes 12 steps and puts the optimized geometry in `INSTANTON_FINAL_12.xyz` and its Hessian in `INSTANTON_FINAL.hess_12`. Visualize the geometry using `vmd`.\n"
   ]
  },
  {
   "cell_type": "markdown",
   "metadata": {},
   "source": [
    "<h2>Exercise 3 - First instanton optimization </h2>\n",
    "\n",
    "4. Go to the folder `input/instanton/40`. Copy the optimized transition state geometry obtained in <strong>Exercise 2</strong> and name it `init.xyz`. Also copy the transition state hessian and name it `hessian.dat`. \n",
    "Run i-PI in the usual way, but here we can run 4 instances of driver simultaneously using:\n",
    "\n",
    "\t`$ i-pi-driver -m ch4hcbe -u &`\n",
    "\t`$ i-pi-driver -m ch4hcbe -u &`\n",
    "\t`$ i-pi-driver -m ch4hcbe -u &`\n",
    "\t`$ i-pi-driver -m ch4hcbe -u &`\n",
    "\t\n",
    "\tThe program first generates the initial instanton guess based on points spread around the TS in the direction of the imaginary mode. It then an optimization which takes 8 steps.\n",
    "The instanton geometry is saved in `INSTANTON_FINAL_7.xyz` and should be visualized with `vmd`. Finally hessians for each bead are also computed and saved in `INSTANTON_FINAL.hess_7` in the shape (3N,3Nn)."
   ]
  },
  {
   "cell_type": "markdown",
   "metadata": {},
   "source": [
    "<h2> Exercise 4 - Second and subsequent instanton optimizations</h2>\n",
    "\n",
    "1. Make the folder `input/instanton/80`.\n",
    "2. Go to the folder `input/instanton/80`.\n",
    "3. Copy the optimized transition state geometry obtained in <strong>Exercise 2</strong> and name it `init.xyz`.\n",
    "4. Copy the optimized instanton geometry obtained in <strong>Exercise 3</strong> and name it `init0`.\n",
    "5. Copy the last hessian obtained in <strong>Exercise 3</strong> and name it `hess0`.\n",
    "6. Interpolate the instanton and the hessian to 80 beads by typing:\n",
    "    \n",
    "    `$ python ${ipi-path}/tools/py/Instanton_interpolation.py -m -xyz init0 -hess hess0 -n 80`\n",
    "    \n",
    "7. Rename the new hessian and instanton geometry to `hessian.dat` and `init.xyz` respectively\n",
    "8. Copy the `input.xml` file from `input/instanton/40/`.\n",
    "9. Change the number of beads from 40 to 80 in `input.xml`.\n",
    "10. Change the hessian shape from (18,18) to (18,1440)  in `input.xml`.\n",
    "11. Run as before. The program performs a optimization which takes 2 steps and then computes a hessian."
   ]
  },
  {
   "cell_type": "markdown",
   "metadata": {},
   "source": [
    "<h2> Exercise 5 - Postprocessing for the rate calculation </h2>\n",
    "\n",
    "So far, we have been working with half ring polymers, but for the rate calculation, one should consider full ring polymers. Therefore, the path with 80 beads, actually represents a ring polymer of 160 beads. This is a little confusing currently, and may be changed in the future, so check the help (using -h) to find out what is needed. \n",
    "Before starting this section, ensure that `$PYTHONPATH` includes the i-PI directory and that the variable `$ipi_path` is correctly set in the postprocessing script `${ipi-path}/tools/py/Instanton_postproc.py` where `${ipi-path}` is the location of i-PI directory.\n",
    "1.  To compute the CH4 partition function, go the input/reactant/phonons\n",
    "folder and type \n",
    "\n",
    "\t`$ python ${ipi-path}/tools/py/Instanton_postproc.py RESTART -c reactant -t 300 -n 160 -f 5`\n",
    "\n",
    "    which computes the ring polymer parition function for $CH_4$ with $N = 160$. Look at the output and make a note of the translational, rotational and vibrational partition functions. You may also want to put > data.out after the command to save the text directly to a file.\n",
    "2.  To compute the TS partition function, go to `input/TS` and type \n",
    "\n",
    "\t`$ python ${ipi-path}/tools/py/Instanton_postproc.py RESTART -c TS -t 300 -n 160`\n",
    "\n",
    "    which computes the ring polymer parition function for the TS with $N = 160$. Look for the value of the imaginary frequency and use this to compute the crossover temperature defined by $$\\beta_c = \\dfrac{2 \\pi}{\\omega_b}.$$\n",
    "Be careful of units! You should find that it is about 340 K. In the cell below we define a quick function that helps you with the necessary unit conversions.\n"
   ]
  },
  {
   "cell_type": "code",
   "execution_count": 14,
   "metadata": {},
   "outputs": [
    {
     "name": "stdout",
     "output_type": "stream",
     "text": [
      "The barrier frequency is 1486.88 cm^-1. \n",
      "The first recrossing temperature is ~ 340.48 K.\n"
     ]
    }
   ],
   "source": [
    "####### Physical Constants ###########\n",
    "cm2hartree=1./(constants.physical_constants['hartree-inverse meter relationship'][0]/100)\n",
    "Boltzmannau = constants.physical_constants['Boltzmann constant in eV/K'][0]*constants.physical_constants['electron volt-hartree relationship'][0]\n",
    "########## Temperature <-> beta conversion ############\n",
    "K2beta = lambda T : 1./T/Boltzmannau\n",
    "beta2K = lambda B : 1./B/Boltzmannau\n",
    "\n",
    "def omb2Trecr(omega):\n",
    "    return beta2K(2.*np.pi/(omega*cm2hartree))\n",
    "\n",
    "omega = 1486.88   # given in reciprocal cm\n",
    "print('The barrier frequency is %.2f cm^-1. \\nThe first recrossing temperature is ~ %.2f K.'%(omega,omb2Trecr(omega)))"
   ]
  },
  {
   "cell_type": "markdown",
   "metadata": {},
   "source": [
    "3. To compute the instanton partition function, $B_N$ and action, go to `input/instanton/80` and type\n",
    "\n",
    "\t`$ python ${ipi-path}/tools/py/Instanton_postproc.py RESTART -c instanton -t 300 > data.txt`\n",
    "\n",
    "   Then it is a simple matter to combine the partition functions, $B_N$, $S$, etc. into the formula given for the rate. Compare the instanton results with those of the transition state in order to compute the tunnelling factor.\n",
    "\n",
    "   $$ \\kappa = f_{\\mathrm{trans}}\\ f_{\\mathrm{rot}}\\ f_{\\mathrm{vib}}\\ e^{-S/\\hbar + \\beta V^{\\dagger}}$$\n",
    "\n",
    "   $$ f_{\\mathrm{trans}} = \\dfrac{Q^{\\mathrm{inst}}_{\\mathrm{trans}}}{Q^{\\mathrm{TS}}_{\\mathrm{trans}}} $$\n",
    "\n",
    "   $$ f_{\\mathrm{rot}} = \\dfrac{Q^{\\mathrm{inst}}_{\\mathrm{rot}}}{Q^{\\mathrm{TS}}_{\\mathrm{rot}}} $$\n",
    "\n",
    "   $$ f_{\\mathrm{vib}} = \\sqrt{\\dfrac{2 \\pi N B_N}{\\beta \\hbar^2}}\\dfrac{Q^{\\mathrm{inst}}_{\\mathrm{vib}}}{Q^{\\mathrm{TS}}_{\\mathrm{vib}}} $$\n",
    "\n",
    "   Note that it is the log of the vibrational partition function which is printed, so you will have to convert this. In this way, you should find that the rate is about 9.8 times faster due to tunnelling. Which is the major contributing factor?\n"
   ]
  },
  {
   "cell_type": "code",
   "execution_count": 32,
   "metadata": {},
   "outputs": [
    {
     "name": "stdout",
     "output_type": "stream",
     "text": [
      "f_trans = 1.00000e+00\n",
      "f_rot = 1.03722e+00\n",
      "f_vib = 8.22488e+00\n",
      "exp(-S/hbar) = 1.35315e-11\n",
      "exp(V/beta) = 8.49763e+10\n",
      "=============================\n",
      "kappa = 9.80947e+00\n"
     ]
    },
    {
     "data": {
      "text/plain": [
       "9.809471881328884"
      ]
     },
     "execution_count": 32,
     "metadata": {},
     "output_type": "execute_result"
    }
   ],
   "source": [
    "Q_trn_TS = 10.187982157\n",
    "Q_rot_TS = 1206.15097078\n",
    "Q_vib_TS = np.exp(-44.2783849573)\n",
    "Q_trn_inst = 10.188\n",
    "Q_rot_inst = 1251.044\n",
    "Q_vib_inst = np.exp(-43.478)\n",
    "BN = 14.289\n",
    "recip_betan_hbar =   0.15201\n",
    "N = 160\n",
    "Soverhbar = -25.026\n",
    "VoverBeta = 25.1656385465\n",
    "\n",
    "def kappa(Q_trn_TS,Q_rot_TS,Q_vib_TS,Q_trn_inst,Q_rot_inst,Q_vib_inst,BN,recip_betan_hbar,N,Soverhbar,VoverBeta):\n",
    "    f_trn = Q_trn_inst / Q_trn_TS\n",
    "    f_rot = Q_rot_inst / Q_rot_TS\n",
    "    f_vib = np.sqrt(2.*np.pi*BN*recip_betan_hbar)*Q_vib_inst/Q_vib_TS\n",
    "    \n",
    "    kappa = f_trn * f_rot * f_vib * np.exp(Soverhbar + VoverBeta)\n",
    "    \n",
    "    #printing out the transmission factor and the relevant contributions. \n",
    "    print('f_trans = %8.5e'%f_trn)\n",
    "    print('f_rot = %8.5e'%f_rot)\n",
    "    print('f_vib = %8.5e'%f_vib)\n",
    "    print('exp(-S/hbar) = %8.5e'%np.exp(Soverhbar))\n",
    "    print('exp(V/beta) = %8.5e'%np.exp(VoverBeta))\n",
    "    print('=============================')\n",
    "    print('kappa = %8.5e'%kappa)\n",
    "        \n",
    "    return kappa\n",
    "\n",
    "kappa(Q_trn_TS,Q_rot_TS,Q_vib_TS,Q_trn_inst,Q_rot_inst,Q_vib_inst,BN,recip_betan_hbar,N,Soverhbar,VoverBeta)"
   ]
  },
  {
   "cell_type": "markdown",
   "metadata": {},
   "source": [
    "4. In this tutorial, the number of beads used in the example is much more than necessary. Please try the instanton calculation with 10 or 20 beads, and see how the results $\\kappa$ compare.\n"
   ]
  },
  {
   "cell_type": "code",
   "execution_count": 34,
   "metadata": {},
   "outputs": [
    {
     "data": {
      "image/png": "[encoded data removed]",
      "text/plain": [
       "<Figure size 432x288 with 1 Axes>"
      ]
     },
     "metadata": {
      "needs_background": "light"
     },
     "output_type": "display_data"
    }
   ],
   "source": [
    "kappadat = np.array([\n",
    "    [10  ,  18.486247675370873],\n",
    "    [20  ,  11.481103709870357],\n",
    "    [40  ,  10.127813329699068],\n",
    "    [80  ,   9.809437521247709]])\n",
    "\n",
    "plt.plot(kappadat[:,0],kappadat[:,1],'ro--')\n",
    "plt.xlabel(r'number of instanton beads')\n",
    "plt.ylabel(r'$\\kappa$')\n",
    "plt.show()"
   ]
  },
  {
   "cell_type": "markdown",
   "metadata": {},
   "source": [
    "<h2><strong><span style=\"font-size:24px;\">References </span></strong></h2>\n",
    "\n",
    "[1] Jeremy O. Richardson. Ring-polymer instanton theory. Int. Rev. Phys. Chem.,\n",
    "37:171, <strong>2018</strong>.\n",
    "<br>[2] Jose C Corchado, Jose L Bravo, and Joaquin Espinosa-Garcia. The hydrogen\n",
    "abstraction reaction H + CH_4 . I. New analytical potential energy surface based\n",
    "on fitting to ab initio calculations. J. Chem. Phys., 130(18): 184314, <strong>2009</strong>."
   ]
  },
  {
   "cell_type": "code",
   "execution_count": null,
   "metadata": {},
   "outputs": [],
   "source": []
  }
 ],
 "metadata": {
  "kernelspec": {
   "display_name": "Python 3",
   "language": "python",
   "name": "python3"
  },
  "language_info": {
   "codemirror_mode": {
    "name": "ipython",
    "version": 3
   },
   "file_extension": ".py",
   "mimetype": "text/x-python",
   "name": "python",
   "nbconvert_exporter": "python",
   "pygments_lexer": "ipython3",
   "version": "3.8.3"
  }
 },
 "nbformat": 4,
 "nbformat_minor": 4
}
