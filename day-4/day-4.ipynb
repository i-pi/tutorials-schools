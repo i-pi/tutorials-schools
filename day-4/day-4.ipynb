{
 "cells": [
  {
   "cell_type": "markdown",
   "metadata": {},
   "source": [
    "<h1><span style=\"font-family:Georgia, serif;\"><strong><span style=\"font-size:24px;\">Instantons</span></strong>\n",
    "</span></h1>\n",
    "<h2>Computing instanton rates using i-PI</h2>\n",
    "\n",
    "In this exercises we will use i-PI not to run molecular dynamics but instead to optimize stationary points on the ring-polymer potential-energy surface. Then by simple extension, the ring-polymer instanton will be found which can be used to compute the thermal rate of a chemical reaction including tunnelling effects.\n",
    "The example which we will use is for the gas-phase bimolecular scattering reaction of H + CH$_4$ . We have used the CBE potential-energy surface [1]. This requires multiple runs of i-PI for the different stationary points on the surface followed by one postprocessing calculation to combine all the data to compute the rate.\n",
    "Full details of the instanton approach are described in [2]."
   ]
  },
  {
   "cell_type": "code",
   "execution_count": null,
   "metadata": {},
   "outputs": [],
   "source": [
    "import numpy as np\n",
    "from matplotlib import pyplot as plt\n",
    "from matplotlib import cycler\n",
    "from scipy import constants\n",
    "\n",
    "plt.rc('text', usetex=True)\n",
    "plt.rc('ps', usedistiller = 'xpdf')\n",
    "plt.rcParams['legend.fontsize'] = 'x-large'\n",
    "plt.rcParams['axes.labelsize'] = 'x-large'\n",
    "plt.rcParams['axes.titlesize'] = 'x-large'\n",
    "plt.rcParams['xtick.labelsize'] = 'x-large'\n",
    "plt.rcParams['ytick.labelsize'] = 'x-large'\n",
    "params = {'figure.figsize':(12, 5)}\n",
    "plt.rcParams['axes.prop_cycle'] = cycler(color=['r','b','k','g','y','c'])"
   ]
  },
  {
   "cell_type": "markdown",
   "metadata": {},
   "source": [
    "A typical workflow is summarized as follows:\n",
    "\n",
    "1. Find the minima on the potential energy landscape of the physical system to identify the reactant and the product, and estimate their hessian, normal-mode frequencies and eigenvectors.\n",
    "\n",
    "\n",
    "2. Fing the first-order saddle point to locate the relevant transition state, and estimate the hessian.\n",
    "\n",
    "\n",
    "3. Estimate an \"unconverged\" instanton by finding the first-order saddle point for the ring polymer Hamiltonian for N replicas. Note that this N should be large enough for instanton can be a good guess for a converged calculation with large enough N, but small enough that the cost of the \"unconverged\" calculation isn't too high. This step should also give you the approximate Hessian for each replica. \n",
    "\n",
    "\n",
    "4. Using ring-polymer interpolation calculate the ring polymer instanton for a larger number of replicas. A good rule of thumb is to double the number of replicas.\n",
    "\n",
    "\n",
    "5. Estimate the instanton by locating the first-order saddle point. \n",
    "\n",
    "\n",
    "6. Repeat 4 and 5 until you have converged the instanton with respect to the number of replicas. \n",
    "\n",
    "\n",
    "7. Recompute the Hessian for each replica accurately and estimate the rate. \n",
    "\n",
    "If rates are required at more than one temperature, it is recommended to start with those closest to the crossover temperature and cool sequentially, again using initial guesses from the previous optimizations."
   ]
  },
  {
   "cell_type": "markdown",
   "metadata": {},
   "source": [
    "<h2>Exercise 1 - Optimizing and analysing the reactant</h2>\n",
    "\n",
    "1. Go to the folder `input/reactant/minimization`. A good initial guess has been provided in `init.xyz` and the input file `input.xml`. Look at the input file which should be fairly self explanatory. Note that the text between `<!--` and `-->` is a comment.\n",
    "Then run i-PI using\n",
    "\n",
    "    `$ i-pi input.xml &`\n",
    "\n",
    "    and the driver using\n",
    "    \n",
    "    `$ i-pi-driver -m ch4hcbe -u`\n",
    "\n",
    "\tThe simulation takes 31 steps and the final geometry can be seen in the last frame in `min.xc.xyz`. Once you finish this exercise, you could come back here and try to get the optimization to finish in fewer steps, e.g. by changing `sd` to one of the other optimizers.\n",
    "\n",
    "    Note that as this is a bimolecular reaction, the H and the CH$_4$ should be well separated and we have used a very large box size. \n",
    "\n",
    "\n",
    "\n",
    "\n",
    "2. Next, go to the folder `input/reactant/phonons` and copy the optimized geometry just obtained (last 8 lines) into a new file called `init.xyz` . We will now compute the hessian of this minimum. Run \n",
    "\n",
    "\t`$ i-pi input.xml &`\n",
    "    \n",
    "\t`$ i-pi-driver -m ch4hcbe -u`\n",
    "\t\n",
    "    The hessian is saved in `phonons.hess` and its eigenvalues in `phonons.eigval`. Check that it has the required number (9) of almost zero eigenvalues. Why?"
   ]
  },
  {
   "cell_type": "code",
   "execution_count": null,
   "metadata": {},
   "outputs": [],
   "source": [
    "eigvals = np.genfromtxt('input/reactant/phonons/min.phonons.eigval')\n",
    "plt.plot(eigvals,'x')\n",
    "plt.xlabel('$i$')\n",
    "plt.ylabel('$\\lambda_i$')\n",
    "plt.show()"
   ]
  },
  {
   "cell_type": "markdown",
   "metadata": {},
   "source": [
    "<h2>Exercise 2 - Optimizing and analysing the transition state</h2>\n",
    "\n",
    "Go to `input/TS` and optimize the transition state using the usual run commands. Here i-PI treats the TS search as a <strong> one-bead instanton optimization</strong>. The simulation takes 12 steps and puts the optimized geometry in `ts.instanton_FINAL_12.xyz` and its Hessian in `ts.instanton_FINAL.hess_12`. Visualize the geometry using `vmd`.\n"
   ]
  },
  {
   "cell_type": "markdown",
   "metadata": {},
   "source": [
    "<h2>Exercise 3 - First instanton optimization </h2>\n",
    "\n",
    "4. Go to the folder `input/instanton/40`. Copy the optimized transition state geometry obtained in <strong>Exercise 2</strong> and name it `init.xyz`. Also copy the transition state hessian and name it `hessian.dat`. \n",
    "Run i-PI in the usual way, but here we can run 4 instances of driver simultaneously using:\n",
    "\n",
    "\t`$ i-pi-driver -m ch4hcbe -u &` <br>\n",
    "\t`$ i-pi-driver -m ch4hcbe -u &` <br>\n",
    "\t`$ i-pi-driver -m ch4hcbe -u &` <br>\n",
    "\t`$ i-pi-driver -m ch4hcbe -u &` <br>\n",
    "\t\n",
    "\tThe program first generates the initial instanton guess based on points spread around the TS in the direction of the imaginary mode. It then an optimization which takes 8 steps.\n",
    "The instanton geometry is saved in `ts.instanton_FINAL_7.xyz` and should be visualized with `vmd`. Finally hessians for each bead are also computed and saved in `ts.instanton_FINAL.hess_7` in the shape (3n,3Nn) where n is the number of atoms."
   ]
  },
  {
   "cell_type": "markdown",
   "metadata": {},
   "source": [
    "<h2> Exercise 4 - Second and subsequent instanton optimizations</h2>\n",
    "\n",
    "1. Make the folder `input/instanton/80`.\n",
    "2. Go to the folder `input/instanton/80`.\n",
    "4. Copy the optimized instanton geometry obtained in <strong>Exercise 3</strong> and name it `init0`.\n",
    "5. Copy the last hessian obtained in <strong>Exercise 3</strong> and name it `hess0`.\n",
    "6. Interpolate the instanton and the hessian to 80 beads by typing:\n",
    "    \n",
    "    `$ python ${ipi-path}/tools/py/Instanton_interpolation.py -m -xyz init0 -hess hess0 -n 80`\n",
    "    \n",
    "7. Rename the new hessian and instanton geometry to `hessian.dat` and `init.xyz` respectively\n",
    "8. Copy the `input.xml` file from `input/instanton/40/`.\n",
    "9. Change the number of beads from 40 to 80 in `input.xml`.\n",
    "10. Change the hessian shape from (18,18) to (18,1440)  in `input.xml`.\n",
    "11. Run as before. The program performs a optimization which takes 6 steps and then computes a hessian."
   ]
  },
  {
   "cell_type": "markdown",
   "metadata": {},
   "source": [
    "<h2> Exercise 5 - Postprocessing for the rate calculation </h2>\n",
    "\n",
    "Note that we have been optimizing half ring polymers as we expect the forward and backward imaginary time path between the reactant and the product to be the same. Thus the actual number of replicas for the instanton obtained by optimizing a ring polymer with 80 replicas are 160. This is a little confusing currently, and may be changed in the future, so when using the Instanton posprocessing tool check use the help option (using -h) to find out what is needed. \n",
    "Before starting this section, ensure that `$PYTHONPATH` includes the i-PI directory and that the variable `$ipi_path` is correctly set in the postprocessing script `${ipi-path}/tools/py/Instanton_postproc.py` where `${ipi-path}` is the location of i-PI directory.\n",
    "\n",
    "\n",
    "1.  To compute the CH$_4$ partition function, go the input/reactant/phonons\n",
    "folder and type \n",
    "\n",
    "\t`$ python ${ipi-path}/tools/py/Instanton_postproc.py RESTART -c reactant -t 300 -n 160 -f 5`\n",
    "\n",
    "    which computes the ring polymer parition function for CH$_4$ with N = 160. Look at the output and make a note of the translational, rotational and vibrational partition functions. You may also want to put > data.out after the command to save the text directly to a file.\n",
    "    \n",
    "    \n",
    "2.  To compute the TS partition function, go to `input/TS` and type \n",
    "\n",
    "\t`$ python ${ipi-path}/tools/py/Instanton_postproc.py RESTART -c TS -t 300 -n 160`\n",
    "\n",
    "    which computes the ring polymer parition function for the TS with $N = 160$. Look for the value of the imaginary frequency and use this to compute the crossover temperature defined by $$\\beta_c = \\dfrac{2 \\pi}{\\omega_b}.$$\n",
    "Be careful of units! You should find that it is about 340 K. In the cell below we define a quick function that helps you with the necessary unit conversions.\n"
   ]
  },
  {
   "cell_type": "code",
   "execution_count": null,
   "metadata": {},
   "outputs": [],
   "source": [
    "####### Physical Constants ###########\n",
    "cm2hartree=1./(constants.physical_constants['hartree-inverse meter relationship'][0]/100)\n",
    "Boltzmannau = constants.physical_constants['Boltzmann constant in eV/K'][0]*constants.physical_constants['electron volt-hartree relationship'][0]\n",
    "########## Temperature <-> beta conversion ############\n",
    "K2beta = lambda T : 1./T/Boltzmannau\n",
    "beta2K = lambda B : 1./B/Boltzmannau\n",
    "\n",
    "def omb2Trecr(omega):\n",
    "    return beta2K(2.*np.pi/(omega*cm2hartree))\n",
    "\n",
    "omega = 1486.88   # given in reciprocal cm\n",
    "print('The barrier frequency is %.2f cm^-1. \\nThe first recrossing temperature is ~ %.2f K.'%(omega,omb2Trecr(omega)))"
   ]
  },
  {
   "cell_type": "markdown",
   "metadata": {},
   "source": [
    "3. To compute the instanton partition function, $B_N$ and action, go to `input/instanton/80` and type\n",
    "\n",
    "\t`$ python ${ipi-path}/tools/py/Instanton_postproc.py RESTART -c instanton -t 300 > data.txt`\n",
    "\n",
    "   Then it is a simple matter to combine the partition functions, $B_N$, $S$, etc. into the formula given for the rate. Compare the instanton results with those of the transition state in order to compute the tunnelling factor.\n",
    "\n",
    "   $$ \\kappa = f_{\\mathrm{trans}}\\ f_{\\mathrm{rot}}\\ f_{\\mathrm{vib}}\\ e^{-S/\\hbar + \\beta V^{\\dagger}}$$\n",
    "\n",
    "   $$ f_{\\mathrm{trans}} = \\dfrac{Q^{\\mathrm{inst}}_{\\mathrm{trans}}}{Q^{\\mathrm{TS}}_{\\mathrm{trans}}} $$\n",
    "\n",
    "   $$ f_{\\mathrm{rot}} = \\dfrac{Q^{\\mathrm{inst}}_{\\mathrm{rot}}}{Q^{\\mathrm{TS}}_{\\mathrm{rot}}} $$\n",
    "\n",
    "   $$ f_{\\mathrm{vib}} = \\sqrt{\\dfrac{2 \\pi N B_N}{\\beta \\hbar^2}}\\dfrac{Q^{\\mathrm{inst}}_{\\mathrm{vib}}}{Q^{\\mathrm{TS}}_{\\mathrm{vib}}} $$\n",
    "\n",
    "   Note that it is the log of the vibrational partition function which is printed, so you will have to convert this. In this way, you should find that the rate is about 9.8 times faster due to tunnelling. Which is the major contributing factor?\n"
   ]
  },
  {
   "cell_type": "code",
   "execution_count": null,
   "metadata": {},
   "outputs": [],
   "source": [
    "Q_trn_TS = 10.187982157\n",
    "Q_rot_TS = 1206.15097078\n",
    "Q_vib_TS = np.exp(-44.2783849573)\n",
    "Q_trn_inst = 10.188\n",
    "Q_rot_inst = 1251.044\n",
    "Q_vib_inst = np.exp(-43.478)\n",
    "BN = 14.289\n",
    "recip_betan_hbar =   0.15201\n",
    "N = 160\n",
    "Soverhbar = -25.026\n",
    "VoverBeta = 25.1656385465\n",
    "\n",
    "def kappa(Q_trn_TS,Q_rot_TS,Q_vib_TS,Q_trn_inst,Q_rot_inst,Q_vib_inst,BN,recip_betan_hbar,N,Soverhbar,VoverBeta):\n",
    "    f_trn = Q_trn_inst / Q_trn_TS\n",
    "    f_rot = Q_rot_inst / Q_rot_TS\n",
    "    f_vib = np.sqrt(2.*np.pi*BN*recip_betan_hbar)*Q_vib_inst/Q_vib_TS\n",
    "    \n",
    "    kappa = f_trn * f_rot * f_vib * np.exp(Soverhbar + VoverBeta)\n",
    "    \n",
    "    #printing out the transmission factor and the relevant contributions. \n",
    "    print('f_trans = %8.5e'%f_trn)\n",
    "    print('f_rot = %8.5e'%f_rot)\n",
    "    print('f_vib = %8.5e'%f_vib)\n",
    "    print('exp(-S/hbar) = %8.5e'%np.exp(Soverhbar))\n",
    "    print('exp(V/beta) = %8.5e'%np.exp(VoverBeta))\n",
    "    print('=============================')\n",
    "    print('kappa = %8.5e'%kappa)\n",
    "        \n",
    "    return kappa\n",
    "\n",
    "kappa(Q_trn_TS,Q_rot_TS,Q_vib_TS,Q_trn_inst,Q_rot_inst,Q_vib_inst,BN,recip_betan_hbar,N,Soverhbar,VoverBeta)"
   ]
  },
  {
   "cell_type": "markdown",
   "metadata": {},
   "source": [
    "4. In this tutorial, the number of beads used in the example is much more than necessary. Please try the instanton calculation with 10 or 20 beads, and see how the results $\\kappa$ compare.\n"
   ]
  },
  {
   "cell_type": "code",
   "execution_count": null,
   "metadata": {},
   "outputs": [],
   "source": [
    "kappadat = np.array([\n",
    "    [10  ,  18.486247675370873],\n",
    "    [20  ,  11.481103709870357],\n",
    "    [40  ,  10.127813329699068],\n",
    "    [80  ,   9.809437521247709]])\n",
    "\n",
    "plt.plot(kappadat[:,0],kappadat[:,1],'ro--')\n",
    "plt.xlabel(r'number of instanton beads')\n",
    "plt.ylabel(r'$\\kappa$')\n",
    "plt.show()"
   ]
  },
  {
   "cell_type": "markdown",
   "metadata": {},
   "source": [
    "<h2><strong><span style=\"font-size:24px;\">References </span></strong></h2>\n",
    "\n",
    "[1] Jose C Corchado, Jose L Bravo, and Joaquin Espinosa-Garcia. The hydrogen\n",
    "abstraction reaction H + CH_4 . I. New analytical potential energy surface based\n",
    "on fitting to ab initio calculations. J. Chem. Phys., 130(18): 184314, <strong>2009</strong>.\n",
    "<br>[2] Jeremy O. Richardson. Ring-polymer instanton theory. Int. Rev. Phys. Chem.,\n",
    "37:171, <strong>2018</strong>."
   ]
  },
  {
   "cell_type": "code",
   "execution_count": null,
   "metadata": {},
   "outputs": [],
   "source": []
  }
 ],
 "metadata": {
  "kernelspec": {
   "display_name": "Python 3",
   "language": "python",
   "name": "python3"
  },
  "language_info": {
   "codemirror_mode": {
    "name": "ipython",
    "version": 3
   },
   "file_extension": ".py",
   "mimetype": "text/x-python",
   "name": "python",
   "nbconvert_exporter": "python",
   "pygments_lexer": "ipython3",
   "version": "3.8.5"
  }
 },
 "nbformat": 4,
 "nbformat_minor": 4
}
