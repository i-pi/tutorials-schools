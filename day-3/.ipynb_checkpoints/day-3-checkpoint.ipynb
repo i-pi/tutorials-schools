{
 "cells": [
  {
   "cell_type": "markdown",
   "metadata": {},
   "source": [
    "<h1>Day-3</h1>\n",
    "<h2>Path integral approximations to real time correlations</h2>\n",
    "\n",
    "In this exercise we will perform simulations of Ice Ih at 200 K, using a  simple empirical force field model based on TIP4P-like point charges. We will use this model to look at different path integral approximations to real time correlations, calculate imaginary time correlations from PI, and look at the relationship between them. The ice box contains 96 water molecules. All files necessary for the exercises below can be found in the `day-3` folder."
   ]
  },
  {
   "cell_type": "code",
   "execution_count": 32,
   "metadata": {},
   "outputs": [],
   "source": [
    "import argparse\n",
    "import itertools\n",
    "import sys\n",
    "import csv\n",
    "import numpy as np\n",
    "from ipi.utils.io import read_file_raw\n",
    "from ipi.utils.units import unit_to_internal, unit_to_user\n",
    "from ipi.utils.messages import verbosity\n",
    "from matplotlib import pyplot as plt"
   ]
  },
  {
   "cell_type": "markdown",
   "metadata": {},
   "source": [
    "<h2>Exercise 1 - Velocity and dipole real time correlation functions</h2>\n",
    "\n",
    "In this first exercise, we will calculate time correlation functions with path integral based methods, namely centroid molecular dynamics (CMD) [1], ring polymer molecular dynamics (RPMD) [2], and thermostated ring polymer molecular dynamics (TRPMD)[3]. All these methods have been explained in the lectures, and we encourage you to look at the respective references for in more details. We note that for the TIP4P-style of charges, the dipole moment is a linear function of the coordinates, and therefore the dipole estimator in CMD, RPMD, and TRPMD is always the same and can be calculated from the centroid positions (or velocities, in the case of its derivative). Due to time constraints we will only perform short (10 ps) simulations, and you’ll be provided extensive outputs for further analysis in the exercises that require it. Inputs for simulating different PI-based methods are also provided.\n",
    "\n",
    "<h3> Vibrational spectra with classical nuclei (Time: 10 minutes)</h3>\n",
    "\n",
    "We will start by calculating both dipole and velocity correlation functions with classical nuclei. In order to do this, we have provided pre-computed i-PI checkpoint files from a long thermalization run of Ice Ih at 200 K. Checkpoint files are a feature of i-PI that can be written through the keyword ```<checkpoint>``` in the ```<output>``` block of i-PI’s input file, for which a syntax example would be: \n",
    "\n",
    "   ```<checkpoint filename=\"restart\" stride=\"2000\" overwrite=\"false\"/>```\n",
    "\n",
    "Inserting this keyword in a thermalization run provides a series of files that can be used to restart simulations from different points of the thermalization simulation (defined by the option stride). You can find checkpoint files from an NVT run with classical nuclei in the `ex-1/checkpoint-nvt` directory.\n",
    "In order to run the NVE trajectory needed to compute the correlation functions, do:\n",
    "\n",
    "`$ cd ex-1/nve` <br>\n",
    "`$ vi nve.xml`\n",
    "\n",
    "The file `nve.xml` is an example of input for NVE simulations. Take some time reading through it. For the current simulation, the most important quantity we will print out is the velocity of the atoms (here given by the centroid velocities since there is only one bead). You will notice that there are some fields marked with `xxx` in the input file. These should be substituted by a number of your choice, corresponding to the identity of the checkpoint file you want to choose. You can substitute `xxx` by a number by hand or use a command.\n",
    "For example, in order to create a new directory with all necessary input files, run:\n",
    "\n",
    "`$ number=6` <br>\n",
    "`$ mkdir dir_${number}` <br>\n",
    "`$ sed \"s/xxx/${number}/g\" nve.xml > dir_${number}/input.xml` <br>\n",
    "`$ cd dir_${number}` <br>\n",
    "`$ cp ../../lammps_inputs/* .`\n",
    "    \n",
    "Now the directory `dir_${number}` contains all input files necessary to start our simulation. \n",
    "\n",
    "In order to launch one instance of i-PI and LAMMPS, run:\n",
    "\n",
    "`$ i-pi input.xml &> log.ipi &` <br>\n",
    "`$ what=$(grep addr input.xml | sed \"s/.*<address>//; s/<\\/address>//\")` <br>\n",
    "`$ sed \"s/addr/$what/\" in.tip4pf | lmp_serial &> log.lammps &`\n",
    "\n",
    "The two last lines are there so as to inform LAMMPS (by changing its input), the address of the UNIX socket that is currently used by the i-PI server.\n",
    "\n",
    "After approximately 10 minutes this simulation should be done and you can analyze the outputs. Immediately after this simulation ends, launch the TRPMD simulation on the second item below before analyzing the outputs, so that it starts running in the background.\n",
    "\n",
    "Look at outputs using gnuplot and vmd . In order to create the dipole and velocity autocorrelations, we provide scripts in the `day-3/tools` folder that uses trajworks functionalities in order to perform Fourier transforms and calculate autocorrelation functions, called `post-vel` and `post-dpl` . Note that we will actually calculate the dipole derivative autocorrelation function, which already includes an extra $\\omega^2$ factor in comparison to the dipole autocorrelation.\n",
    "\n",
    "Go to the folder where you performed the simulation and run the following\n",
    "commands:\n",
    "\n",
    "`$ cp ../../../tools/post* .` <br>\n",
    "`$ cp ../../../tools/charges.tip4pf .` <br>\n",
    "`$ sh post-dpl` <br>\n",
    "`$ sh post-vel` <br>\n",
    "\n",
    "Visualize the files `dpl.ft` (Fourier transform of the dipole autocorrelation) and `vel.ft` (Fourier transform of the velocity autocorrelation).\n",
    "Analyze similarities and differences between them (remember this is a short simulation that cannot yield very converged correlation functions). In the folder `ex-1/precomputed-trajectories/nve/` you will find several longer precomputed and preanalyzed trajectories. Look for the `*.vv` and `*.dpl` files."
   ]
  },
  {
   "cell_type": "markdown",
   "metadata": {},
   "source": [
    "When we calculate the dipole autocorrelation function we need to first calculate the total dipole of each frame. Let us write a simple function for this.\n",
    "\n",
    "To calculate the dipole of a water molecule in the TIP4PF potential, we swap the oxygen atom with a dummy atom, M, that carries a the charge and is placed at\n",
    "\n",
    "$$ r_M = \\gamma\\ r_O + (1-\\gamma)\\ \\frac{r_{H_a}+r_{H_b}}{2} $$"
   ]
  },
  {
   "cell_type": "code",
   "execution_count": 4,
   "metadata": {},
   "outputs": [],
   "source": [
    "# get the charges for the dipole calculation and store them in a dictionary\n",
    "chargedict = {}\n",
    "with open(\"charges.tip4pf\") as f:\n",
    "    for line in f:\n",
    "        (key, val) = line.split()\n",
    "        chargedict[key] = float(val)"
   ]
  },
  {
   "cell_type": "code",
   "execution_count": 39,
   "metadata": {},
   "outputs": [],
   "source": [
    "# TIP4PF setup\n",
    "gamma = 0.73612\n",
    "weights = np.array([gamma, 0.5-0.5*gamma, 0.5-0.5*gamma])\n",
    "\n",
    "# determining the position of the M dummy atom\n",
    "def M_pos(matrix,weights):\n",
    "    coordM = np.dot(matrix.T,weights)\n",
    "    return coordM"
   ]
  },
  {
   "cell_type": "code",
   "execution_count": 38,
   "metadata": {},
   "outputs": [
    {
     "name": "stdout",
     "output_type": "stream",
     "text": [
      "# Calculating the dipole of the first fram of the ice slab\n",
      "#     dipole_x           dipole_y           dipole_z   \n",
      "# -1.00076226e-03     1.34006955e-03    -2.99107571e-03\n"
     ]
    }
   ],
   "source": [
    "# opening the .xyz file and reading in the first frame\n",
    "ff = open(\"h2o-ice-nve.vc.xyz\")\n",
    "rr = read_file_raw(\"xyz\", ff)            \n",
    "ndof = len(rr['data'])                   # number of entries read in in a frame (96*3*3 = 864)\n",
    "nspecies = int(ndof / 3)                 # number of atoms in the ice slab (96*3 = 288)\n",
    "natomm = 3                               # number of atoms in the H2O molecule\n",
    "ch = np.zeros((nspecies))\n",
    "\n",
    "\n",
    "framexyz = rr['data'].reshape((int(ndof / 3), 3))\n",
    "label = rr['names']\n",
    "for z in range(nspecies):\n",
    "    if(z%natomm==0):\n",
    "        framexyz[z] = M_pos(framexyz[z:z+natomm,:],weights)\n",
    "        label[z] = 'M'\n",
    "    ch[z] = chargedict[label[z]]\n",
    "dpl = np.dot(framexyz.T,ch)\n",
    "\n",
    "print('# Calculating the dipole of the first fram of the ice slab\\n#     dipole_x           dipole_y           dipole_z   ')\n",
    "print('# %15.8e    %15.8e    %15.8e'%(dpl[0], dpl[1], dpl[2] ))"
   ]
  },
  {
   "cell_type": "code",
   "execution_count": null,
   "metadata": {},
   "outputs": [],
   "source": [
    "# Calculates the autocorrelation function using the   \n",
    "for tt in range(mlag+1):\n",
    "    for xx in range(3):\n",
    "        autocorr[tt,xx] = np.dot(dplfull[:len(dplfull)-tt,xx].T,dplfull[tt:,xx])/(len(dplfull)-tt)\n",
    "autocorr /= autocorr[0]"
   ]
  },
  {
   "cell_type": "markdown",
   "metadata": {},
   "source": [
    "<h2>Exercise 2 - Velocity imaginary time correlation function </h2>\n",
    "\n",
    "In this exercise, we will calculate an example of an imaginary time correlation function, namely the velocity-velocity imaginary time correlation. These quantities are exact within the PI formalism and can be computed from PIMD, CMD, RPMD, and TRPMD, always yielding the same result since all these methods preserve ensemble. \n",
    "\n",
    "A direct estimator for the imaginary time correlation function on the imaginary time $i \\lambda_j$, with $\\lambda_j=j\\beta_P\\hbar,\\ j = 0, ..., n − 1$, and $\\lambda_n = \\lambda_0$ is\n",
    "\n",
    "$$c_{vv}(i\\lambda t) = \\sum_k^N\\Big[ \\dfrac{3}{\\beta_P m_k} - \\dfrac{\\omega_P}{P} \\sum_i^{P-1} \\Big\\langle (q_i^{(k)}-q_{i+1}^{(k)})(q_{i+j}^{(k)}-q_{i+j+1}^{(k)})\\Big\\rangle\\Big] $$\n",
    "\n",
    "For hints on the derivation of the equation above, check the appendix of Ref. [4]. This expression can be recast to a centroid virial estimator form that is\n",
    "\n",
    "$$c_{vv}(i\\lambda t) = \\sum_k^N\\Big[ \\dfrac{3}{\\beta m_k} - \\dfrac{1}{P m_k} \\sum_i^{P-1} \\Big\\langle(q_{i+j}^{(k)}-\\overline{q})\\dfrac{dV(q_i^{(k)})}{dq_i^{(k)}}\\Big\\rangle\\Big] $$\n",
    "\n",
    "where $\\overline{q}$ is the centroid position. This is what we will calculate from our simulation. A script to calculate this expression is available in `tools/posforce2imaginaryvv.py`. \n",
    "Run the following commands:\n",
    "\n",
    "```$ cd ex-2``` <br>\n",
    "```$ cp -r ../ex-1/trpmd/dir_* .``` <br>\n",
    "```$ cd dir_*``` <br>\n",
    "```$ python ../../tools/posforce2imaginaryvv.py h2o-ice-trpmd 200```\n",
    "\n",
    "The file generated `h2o-ice-trpmd.imvacf` contains the velocity imaginary time correlation, where in the x axis is imaginary time in units of $\\lambda_j\\hbar /(P β \\hbar)$. Plot this quantity. For the temperature we are simulating, we know the imaginary time correlation function through an imaginary time slice from $0\\ \\mathrm{to}\\ \\beta\\hbar = 38.2\\ \\mathrm{fs}$. A more converged imaginary time velocity correlation function is given in `ex-2/precomputed-imvacf/` .\n"
   ]
  },
  {
   "cell_type": "markdown",
   "metadata": {},
   "source": [
    "<h2>Exercise 3 - Relationship between imaginary and real time correlations</h2>\n",
    "\n",
    "A way to check the quality of the real time autocorrelation function approximated by the PI-based methods (like the ones calculated in Ex. 1) is to look at sum rules that connect the real time with the imaginary time correlations. For the velocity real and imaginary time correlations, the relationship is \n",
    "\n",
    "$$c_{vv}(i\\lambda t) = \\int_0^\\infty f(\\lambda,\\omega) F_\\mathrm{vv}(\\omega) d\\omega $$\n",
    "\n",
    "$$f(\\lambda,\\omega) = \\dfrac{\\beta\\hbar\\omega \\cosh({\\beta\\hbar\\omega/2}-\\lambda\\hbar\\omega)}{2\\pi\\sinh({\\beta\\hbar\\omega/2})}$$\n",
    "\n",
    "where $F_{vv}(\\omega)$ is the Fourier transform of the Kubo transformed real time velocity correlation function.\n",
    "\n",
    "In Ref. [5] one can also find the expression that relates the  imaginary time square displacement and the real time velocity correlation function. Ref. [4] and references therein also point to derivations of these expressions. \n",
    "\n",
    "By reconstructing $c_{vv}$ from the vibrational spectra obtained with either TRPMD, RPMD, or CMD, or even  from a simulation with classical nuclei (our NVE) and comparing to the exact $c_{vv}(i\\lambda\\hbar)$ obtained in <strong>Exercise 2</strong>, one can assess (even if indirectly) how large the errors are. \n",
    "In order to reconstruct the imaginary time correlations from real time data we provide the script `tools/get_imacf_from_real.py`. The syntax is:\n",
    "\n",
    "`python get_imacf_from_real.py [name] [temperature] [nslices]`\n",
    "\n",
    "where `nslices` is the number of imaginary time slices (or ''beads'') one wants to reconstruct.\n",
    "\n",
    "In the folder `ex-3/convergedspecs` you will find the files `nve.vv`, `trpmd.vv`, `rpmd.vv`, and `cmd.vv`. Type:\n",
    "\n",
    "```$ cd ex-3/convergedspecs``` <br>\n",
    "```$ python ../../tools/get_imacf_from_real.py nve.vv 200 64 > nve.imvacf``` <br>\n",
    "```$ python ../../tools/get_imacf_from_real.py trpmd.vv 200 64 > trpmd.imvacf``` <br>\n",
    "```$ python ../../tools/get_imacf_from_real.py rpmd.vv 200 64 > rpmd.imvacf``` <br>\n",
    "```$ python ../../tools/get_imacf_from_real.py cmd.vv 200 64 > cmd.imvacf``` \n",
    "\n",
    "Compare all the imaginary time correlations with the one provided in `ex-2/precomputed-imvacf/`.\n",
    "Are the imaginary functions reconstructed from different methods appreciably different? Can you think about reasons for their similarities/differences? (Hint: look at the expressions above.)"
   ]
  },
  {
   "cell_type": "markdown",
   "metadata": {},
   "source": [
    "<h2>Eszter's comments</h2>\n",
    "\n",
    "As `post-vel` includes running `trajworks` on a `.xyz` file, which does not read in anything at the moment, I was not able to run the exercises that require the calculation of velocity auto-correlation functions from trajectories."
   ]
  },
  {
   "cell_type": "markdown",
   "metadata": {},
   "source": [
    "<h2>References</h2>\n",
    "[1] Jianshu Cao and Gregory A Voth. The formulation of quantum statistical mechanics based on the Feynman path centroid density. IV. Algorithms for centroid molecular dynamics. J.  Chem. Phys., 101:6168–6183, <strong>1994</strong>. <br>\n",
    "[2] I R Craig and D E Manolopoulos. Quantum statistics and classical mechanics: Real time  correlation functions from ring polymer molecular dynamics. J. Chem. Phys., 121:3368, <strong>2004</strong>. <br>\n",
    "[3] Mariana Rossi, Michele Ceriotti, and David E Manolopoulos. How to remove the spurious resonances from ring polymer molecular dynamics. J. Chem. Phys., 140:234116, <strong>2014</strong>. <br>\n",
    "[4] Scott Habershon, Bastiaan J Braams, and David E Manolopoulos. Quantum mechanical correlation \n",
    "functions, maximum entropy analytic continuation, and ring polymer molecular dynamics. J. Chem. Phys., 127:174108, <strong>2007</strong>. <br>\n",
    "[5] Mark Tuckerman. Statistical Mechanics and Molecular Simulations. Oxford University Press, <strong>2008</strong>.\n"
   ]
  },
  {
   "cell_type": "code",
   "execution_count": null,
   "metadata": {},
   "outputs": [],
   "source": []
  }
 ],
 "metadata": {
  "kernelspec": {
   "display_name": "Python 3",
   "language": "python",
   "name": "python3"
  },
  "language_info": {
   "codemirror_mode": {
    "name": "ipython",
    "version": 3
   },
   "file_extension": ".py",
   "mimetype": "text/x-python",
   "name": "python",
   "nbconvert_exporter": "python",
   "pygments_lexer": "ipython3",
   "version": "3.8.3"
  }
 },
 "nbformat": 4,
 "nbformat_minor": 4
}
