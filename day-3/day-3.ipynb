{
 "cells": [
  {
   "cell_type": "markdown",
   "metadata": {},
   "source": [
    "<h1>Day-3</h1>\n",
    "<h2>Path integral approximations to real time correlations</h2>\n",
    "<h3>Mariana Rossi, Venkat Kapil, Eszter Sarolta Pos</h3>\n",
    "\n",
    "In this exercise we will perform simulations of Ice Ih at 200 K, using a  simple empirical force field model based on TIP4P-like point charges. We will use this model to look at different path integral approximations to real time correlations, calculate imaginary time correlations from PI, and look at the relationship between them. The ice box contains 96 water molecules. All files necessary for the exercises below can be found in the `day-3` folder."
   ]
  },
  {
   "cell_type": "code",
   "execution_count": 1,
   "metadata": {},
   "outputs": [],
   "source": [
    "import argparse\n",
    "import itertools\n",
    "import sys\n",
    "import os\n",
    "import csv\n",
    "import numpy as np\n",
    "from ipi.utils.io import read_file_raw\n",
    "from ipi.utils.units import unit_to_internal, unit_to_user\n",
    "from ipi.utils.messages import verbosity\n",
    "from matplotlib import pyplot as plt"
   ]
  },
  {
   "cell_type": "markdown",
   "metadata": {},
   "source": [
    "<h2>Exercise 1 - Velocity and dipole real time correlation functions</h2>\n",
    "\n",
    "In this first exercise, we will calculate time correlation functions with path integral based methods, namely centroid molecular dynamics (CMD) [1], ring polymer molecular dynamics (RPMD) [2], and thermostated ring polymer molecular dynamics (TRPMD)[3]. All these methods have been explained in the lectures, and we encourage you to look at the respective references for in more details. We note that for the TIP4P-style of charges, the dipole moment is a linear function of the coordinates, and therefore the dipole estimator in CMD, RPMD, and TRPMD is always the same and can be calculated from the centroid positions (or velocities, in the case of its derivative). Due to time constraints we will only perform short (10 ps) simulations, and you’ll be provided extensive outputs for further analysis in the exercises that require it. Inputs for simulating different PI-based methods are also provided.\n"
   ]
  },
  {
   "cell_type": "markdown",
   "metadata": {},
   "source": [
    "<h3> Classical nuclei trajectories </h3>\n",
    "\n",
    "We will start by calculating both dipole and velocity correlation functions with classical nuclei. In order to do this, we have provided pre-computed i-PI checkpoint files from a long thermalization run of Ice Ih at 200 K. Checkpoint files are a feature of i-PI that can be written through the keyword ```<checkpoint>``` in the ```<output>``` block of i-PI’s input file, for which a syntax example would be: \n",
    "\n",
    "   ```<checkpoint filename=\"restart\" stride=\"2000\" overwrite=\"false\"/>```\n",
    "\n",
    "Inserting this keyword in a thermalization run provides a series of files that can be used to restart simulations from different points of the thermalization simulation (defined by the option stride). You can find checkpoint files from an NVT run with classical nuclei in the `ex-1/checkpoint-nvt` directory. \n",
    "\n",
    "\n",
    "In order to run the NVE trajectory needed to compute the correlation functions, you will need to look at the following file:\n",
    "\n",
    "`$ cd ex-1/nve` <br>\n",
    "`$ vi nve.xml` <br>\n",
    "\n",
    "The file `nve.xml` is an example of input for NVE simulations. Take some time reading through it. For the current simulation, the most important quantity we will print out is the velocity of the atoms (here given by the centroid velocities since there is only one bead). You will notice that there are some fields marked with `xxx` in the input file. These should be substituted by a number of your choice, corresponding to the identity of the checkpoint file you want to choose. You can substitute `xxx` by a number that could correspond to the index of the checkpoint file used as a starting point.\n",
    "For example, in order to run using the first checkpoint, you can do the following:\n",
    "\n",
    "`$ mkdir dir_1` <br>\n",
    "`$ cd dir_1` <br>\n",
    "`$ cp ../nve.xml input.xml` <br>\n",
    "`$ cp ../../lammps_inputs/*.tip4pf .`\n",
    "    \n",
    "Now the directory `dir_1` contains all input files necessary to start our simulation. Substitue `xxx` by `1` the index of the checkpoint. This is ensure the simulation starts from the correct chk file. Also replace `addr` in `in.tip4pf` with the correct address as specified in `input.xml`.\n",
    "\n",
    "In order to launch one instance of i-PI and LAMMPS, run:\n",
    "\n",
    "`$ i-pi input.xml &> log.ipi &` <br>\n",
    "`$ lmp_serial < in.lmp &> log.lammps &`\n",
    "\n",
    "After approximately 10 minutes this simulation should be done and you can analyze the outputs. \n"
   ]
  },
  {
   "cell_type": "markdown",
   "metadata": {},
   "source": [
    "<h3> Quantum nuclei trajectories </h3>\n",
    "\n",
    "\n",
    "Immediately after this simulation ends, launch the TRPMD simulation on the second item below before analyzing the outputs, so that it starts running in the background. \n",
    "\n",
    "\n",
    "Due to time constrains, we will only perform one TRPMD run with 48 beads. This simulation takes around one hour. For RPMD, more simulations would be needed for a reasonable spectra due to its poor ergodicity, and for (partially adiabatic) CMD, due to the much smaller time step required, the simulation would take 10 times longer. Templates of the input files for the corresponding simulations are provided in the folders `ex-1/rpmd/` and `ex-1/cmd/`. The input file for this simulation will be in the `ex-1/trpmd` folder. The checkpoints from a PIMD simulation that we will use to start the TRPMD one can be found in `ex-1/checkpoint-pimd`. You can setup the inputs for TRPMD in the following manner:\n",
    "\n",
    "`$ cd ex-1/trpmd` <br>\n",
    "`$ mkdir dir_1` <br>\n",
    "`$ cd dir_1` <br>\n",
    "`$ cp ../trpmd.xml input.xml` <br>\n",
    "`$ cp ../../lammps_inputs/*.tip4pf .`\n",
    "\n",
    "Replace `xxx` with `1` and make sure to specify the address in `in.tip4p` correctly. Run i-PI and LAMMPS:\n",
    "\n",
    "`$ i-pi input.xml &> log.ipi &` <br>\n",
    "`$ lmp_serial < in.lmp &> log.lammps &`\n",
    "\n",
    "Feel free to run multiple instances of LAMMPS. In an ideal scenario one would run as many instances of LAMMPS as the number of replicas."
   ]
  },
  {
   "cell_type": "markdown",
   "metadata": {},
   "source": [
    "<h2> Vibrational density of states </h2>\n",
    "\n",
    "Go to the NVE directory. To calculate the full vibrational density of states (VDOS) use the following i-PI tool\n",
    "\n",
    "`$  cd ex-1/nve` <br>\n",
    "`$  i-pi-getacf -ifile h2o-ice-nve.vc.xyz -mlag 1024 -ftpad 3072 -ftwin cosine-hanning -dt \"1.0 femtosecond\" -oprefix nve`\n",
    "\n",
    "This computes the autocorrelation of the system's velocity and its Fourier transform. Note that to get smooth versions of the VDOS we have used a \"cosine hanning\" window function. Feel free to increase the `maxlag`, and play with different window functions to see how they affect the spectrum. \n",
    "\n",
    "Note that units of time and frequency are atomic units. So make sure to convert to your favourite unit of time and frequency. "
   ]
  },
  {
   "cell_type": "code",
   "execution_count": 10,
   "metadata": {},
   "outputs": [
    {
     "data": {
      "text/plain": [
       "[]"
      ]
     },
     "execution_count": 10,
     "metadata": {},
     "output_type": "execute_result"
    },
    {
     "data": {
      "image/png": "[encoded data removed]",
      "text/plain": [
       "<Figure size 432x288 with 1 Axes>"
      ]
     },
     "metadata": {
      "needs_background": "light"
     },
     "output_type": "display_data"
    }
   ],
   "source": [
    "velFT = np.loadtxt('ex-1/nve/dir_1/nve_facf.data', usecols=(0,1))\n",
    "plt.plot(velFT[:,0] * 219474,velFT[:,1], label='nve')\n",
    "plt.xlim([0,5000])\n",
    "plt.ylabel(r'$C_{vv}(\\omega)$')\n",
    "plt.xlabel(r'$\\omega\\ /\\ \\mathrm{cm}^{-1}$')\n",
    "plt.legend()\n",
    "plt.plot()"
   ]
  },
  {
   "cell_type": "markdown",
   "metadata": {},
   "source": [
    "Repeat the same using the centroid velocity obtained with TRPMD\n",
    "\n",
    "`$  cd ex-1/trpmd` <br>\n",
    "`$  i-pi-getacf -ifile h2o-ice-trpmd.vc.xyz -mlag 1024 -ftpad 3072 -ftwin cosine-hanning -dt \"1.0 femtosecond\" -oprefix trpmd`\n",
    "\n",
    "and visualize the NVE and TRPMD VDOS together. What differences do you see? Can you rationalize them?"
   ]
  },
  {
   "cell_type": "code",
   "execution_count": 11,
   "metadata": {},
   "outputs": [
    {
     "data": {
      "text/plain": [
       "[]"
      ]
     },
     "execution_count": 11,
     "metadata": {},
     "output_type": "execute_result"
    },
    {
     "data": {
      "image/png": "[encoded data removed]",
      "text/plain": [
       "<Figure size 432x288 with 1 Axes>"
      ]
     },
     "metadata": {
      "needs_background": "light"
     },
     "output_type": "display_data"
    }
   ],
   "source": [
    "velFT = np.loadtxt('ex-1/nve/dir_1/nve_facf.data', usecols=(0,1))\n",
    "velFT_trpmd = np.loadtxt('ex-1/trpmd/dir_1/trpmd_facf.data', usecols=(0,1))\n",
    "plt.plot(velFT[:,0] * 219474,velFT[:,1], label='nve')\n",
    "plt.plot(velFT_trpmd[:,0] * 219474,velFT_trpmd[:,1], label='trpmd')\n",
    "plt.xlim([0,5000])\n",
    "plt.ylabel(r'$C_{vv}(\\omega)$')\n",
    "plt.xlabel(r'$\\omega\\ /\\ \\mathrm{cm}^{-1}$')\n",
    "plt.legend()\n",
    "plt.plot()"
   ]
  },
  {
   "cell_type": "markdown",
   "metadata": {},
   "source": [
    "Repeat the same procedure for RPMD and CMD to generate trajectories and the VDOS, when you have more time. For now you can look at the precomputed spectra. You’ll find many precomputed and preprocessed trajectories from each different path integral based method in the directories \n",
    "\n",
    "```ex-1/precomputed-trajectories/rpmd/```  <br> \n",
    "```ex-1/precomputed-trajectories/trpmd/```  <br> \n",
    "```ex-1/precomputed-trajectories/cmd/``` <br>\n",
    "\n",
    "\n",
    "Visualize all Fourier transformed functions velocity autocorrelations (`*.vv`), as computed from the different methods. Can you spot the spurious resonances in RPMD and the curvature problem in CMD? And do you see that the TRPMD peaks are much broader than the classical ones?"
   ]
  },
  {
   "cell_type": "code",
   "execution_count": 12,
   "metadata": {},
   "outputs": [
    {
     "data": {
      "text/plain": [
       "[]"
      ]
     },
     "execution_count": 12,
     "metadata": {},
     "output_type": "execute_result"
    },
    {
     "data": {
      "image/png": "[encoded data removed]",
      "text/plain": [
       "<Figure size 432x288 with 1 Axes>"
      ]
     },
     "metadata": {
      "needs_background": "light"
     },
     "output_type": "display_data"
    }
   ],
   "source": [
    "methods = ['nve', 'trpmd', 'rpmd', 'cmd']\n",
    "for mm in methods:\n",
    "    velFT = np.loadtxt('ex-1/precomputed-trajectories/' + mm +'/' + mm + '.vv', usecols=(0,1))\n",
    "    plt.plot(velFT[:,0],velFT[:,1], label = '%s'%mm)\n",
    "plt.xlim([0,5000])\n",
    "plt.ylabel(r'$C_{vv}(\\omega)$')\n",
    "plt.xlabel(r'$\\omega\\ /\\ \\mathrm{cm}^{-1}$')\n",
    "plt.legend()\n",
    "plt.plot()"
   ]
  },
  {
   "cell_type": "markdown",
   "metadata": {},
   "source": [
    "<h2> IR spectra with classical nuclei </h2>\n",
    "\n",
    "In order In order to create the dipole and velocity autocorrelations, we provide scripts in the `day-3/tools` folder that uses trajworks functionalities in order to perform Fourier transforms and calculate autocorrelation functions, called `post-vel` and `post-dpl` . Note that we will actually calculate the dipole derivative autocorrelation function, which already includes an extra $\\omega^2$ factor in comparison to the dipole autocorrelation.\n",
    "\n",
    "Go to the folder where you performed the simulation and run the following\n",
    "commands:\n",
    "\n",
    "`$ cp ../../../tools/post* .` <br>\n",
    "`$ cp ../../../tools/charges.tip4pf .` <br>\n",
    "`$ sh post-dpl` <br>\n",
    "`$ sh post-vel` <br>\n",
    "\n",
    "Visualize the files `dpl.ft` (Fourier transform of the dipole autocorrelation) and `vel.ft` (Fourier transform of the velocity autocorrelation).\n",
    "Analyze similarities and differences between them (remember this is a short simulation that cannot yield very converged correlation functions). In the folder `ex-1/precomputed-trajectories/nve/` you will find several longer precomputed and preanalyzed trajectories. Look for the `*.vv` and `*.dpl` files."
   ]
  },
  {
   "cell_type": "markdown",
   "metadata": {},
   "source": [
    "When we calculate the dipole autocorrelation function we need to first calculate the total dipole of each frame. Let us write a simple function for this.\n",
    "\n",
    "To calculate the dipole of a water molecule in the TIP4PF potential, we swap the oxygen atom with a dummy atom, M, that carries a the charge and is placed at\n",
    "\n",
    "$$ r_M = \\gamma\\ r_O + (1-\\gamma)\\ \\frac{r_{H_a}+r_{H_b}}{2} $$"
   ]
  },
  {
   "cell_type": "code",
   "execution_count": null,
   "metadata": {},
   "outputs": [],
   "source": [
    "number = 6\n",
    "# get the charges for the dipole calculation and store them in a dictionary\n",
    "chargedict = {}\n",
    "with open(\"/home/epos/tutorials-schools/tutorial-3/ex-1/nve/dir_%d/charges.tip4pf\"%number) as f:\n",
    "    for line in f:\n",
    "        (key, val) = line.split()\n",
    "        chargedict[key] = float(val)"
   ]
  },
  {
   "cell_type": "code",
   "execution_count": null,
   "metadata": {},
   "outputs": [],
   "source": [
    "# TIP4PF setup\n",
    "gamma = 0.73612\n",
    "weights = np.array([gamma, 0.5-0.5*gamma, 0.5-0.5*gamma])\n",
    "\n",
    "# determining the position of the M dummy atom\n",
    "def M_pos(matrix,weights):\n",
    "    coordM = np.dot(matrix.T,weights)\n",
    "    return coordM"
   ]
  },
  {
   "cell_type": "code",
   "execution_count": null,
   "metadata": {},
   "outputs": [],
   "source": [
    "# opening the .xyz file and reading in the first frame\n",
    "ff = open(\"/home/epos/tutorials-schools/tutorial-3/ex-1/nve/dir_%d/h2o-ice-nve.vc.xyz\"%number)\n",
    "rr = read_file_raw(\"xyz\", ff)            \n",
    "ndof = len(rr['data'])                   # number of entries read in in a frame (96*3*3 = 864)\n",
    "nspecies = int(ndof / 3)                 # number of atoms in the ice slab (96*3 = 288)\n",
    "natomm = 3                               # number of atoms in the H2O molecule\n",
    "ch = np.zeros((nspecies))\n",
    "\n",
    "\n",
    "framexyz = rr['data'].reshape((int(ndof / 3), 3))\n",
    "label = rr['names']\n",
    "for z in range(nspecies):\n",
    "    if(z%natomm==0):\n",
    "        framexyz[z] = M_pos(framexyz[z:z+natomm,:],weights)\n",
    "        label[z] = 'M'\n",
    "    ch[z] = chargedict[label[z]]\n",
    "dpl = np.dot(framexyz.T,ch)\n",
    "\n",
    "print('# Calculating the dipole of the first frame of the ice slab\\n#     dipole_x           dipole_y           dipole_z   ')\n",
    "print('# %15.8e    %15.8e    %15.8e'%(dpl[0], dpl[1], dpl[2] ))"
   ]
  },
  {
   "cell_type": "markdown",
   "metadata": {},
   "source": [
    "<h3>Vibrational spectra with quantum nuclei (Time: 1 hour)</h3>\n",
    "\n",
    "Due to time constrains, we will only perform one TRPMD run with 48 beads. This simulation takes around one hour. For RPMD, more simulations would be needed for a reasonable spectra due to its poor ergodicity, and for (partially adiabatic) CMD, due to the much smaller time step required, the simulation would take 10 times longer. Templates of the input files for the corresponding simulations are provided in the folders `ex-1/rpmd/` and `ex-1/cmd/`. The input file for this simulation will be in the `ex-1/trpmd` folder. The checkpoints from a PIMD simulation that we will use to start the TRPMD one can be found in `ex-1/checkpoint-pimd`. The set of bash commands you will need to launch this simulation are the following (you can change the variable number):\n",
    "\n",
    "```$ cd ex-1/trpmd``` <br>\n",
    "```$ number=6``` <br>\n",
    "```$ mkdir dir_${number}``` <br>\n",
    "```$ sed \"s/xxx/${number}/g\" trpmd.xml > dir_${number}/input.xml``` <br>\n",
    "```$ cd dir_${number}/``` <br>\n",
    "```$ cp ../../lammps_inputs/* .``` <br>\n",
    "```$ i-pi input.xml &> log.ipi &``` <br>\n",
    "```$ what=$(grep addr input.xml | sed \"s/.*<address>//; s/<\\/address>//\")``` <br>\n",
    "```$ for i in {1..8}; do sed \"s/addr/$what/\" in.tip4pf | lmp_serial &> log.$i & done``` \n",
    "\n",
    "Beyond the velocities, here we will print out also the positions and forces on each bead, which is necessary to build the imaginary time correlation functions that we will look at in <strong>Exercise 2</strong>.\n",
    "\n",
    "Again after the simulation is done, from the simulation directory run:\n",
    "\n",
    "```$ cp ../../../tools/post* .``` <br>\n",
    "```$ cp ../../../tools/charges.tip4pf .``` <br>\n",
    "```$ sh post-dpl``` <br>\n",
    "```$ sh post-vel```\n",
    "\n",
    "Visualize below the files `dpl.ft` and `vel.ft` and compare them with their classical counterparts that were calculated in the previous item. Which differences do you observe? (Do not forget to change number in the top of the cell to the number you are using in your command line to run the simulations.)"
   ]
  },
  {
   "cell_type": "code",
   "execution_count": null,
   "metadata": {},
   "outputs": [],
   "source": [
    "number = 6\n",
    "os.chdir('ex-1/trpmd/')\n",
    "try:\n",
    "    os.chdir('dir_%d/'%number)\n",
    "except:\n",
    "    raise ValueError(\"The directory dir_%d cannot be found.\"%number)\n",
    "dplFT = np.loadtxt('dpl.ft', usecols=(0,1))\n",
    "\n",
    "plt.plot(dplFT[:,0],dplFT[:,1], label = '%s'%mm)\n",
    "plt.xlim([0,4500])\n",
    "plt.xlabel(r'$\\omega\\ /\\ \\mathrm{cm}^{-1}$')\n",
    "plt.legend()\n",
    "plt.show()\n",
    "\n",
    "os.chdir('../../')"
   ]
  },
  {
   "cell_type": "code",
   "execution_count": null,
   "metadata": {},
   "outputs": [],
   "source": [
    "number = 4\n",
    "os.chdir('ex-1/trpmd/')\n",
    "\n",
    "velFT = np.loadtxt('vel.ft', usecols=(0,1))\n",
    "\n",
    "plt.plot(velFT[:,0], velFT[:,1], label = '%s'%mm)\n",
    "plt.xlim([0,4500])\n",
    "plt.xlabel(r'$\\omega\\ /\\ \\mathrm{cm}^{-1}$')\n",
    "plt.legend()\n",
    "\n",
    "plt.show()\n",
    "\n",
    "os.chdir('../../')"
   ]
  },
  {
   "cell_type": "code",
   "execution_count": null,
   "metadata": {},
   "outputs": [],
   "source": [
    "methods = ['cmd', 'rpmd', 'nve']\n",
    "os.chdir('ex-1/precomputed-trajectories/')\n",
    "for mm in methods:\n",
    "    os.chdir(mm + '/' + mm +'_4/')\n",
    "    velFT = np.loadtxt('vel.ft', usecols=(0,1))\n",
    "    plt.plot(velFT[:,0],velFT[:,1], label = '%s'%mm)\n",
    "    os.chdir('../../')\n",
    "plt.xlim([0,5000])\n",
    "plt.xlabel(r'$\\omega\\ /\\ \\mathrm{cm}^{-1}$')\n",
    "plt.legend()\n",
    "plt.plot()\n",
    "os.chdir('../../')"
   ]
  },
  {
   "cell_type": "markdown",
   "metadata": {},
   "source": [
    "You’ll find many precomputed and preprocessed trajectories from each different path integral based method in the directories \n",
    "\n",
    "```ex-1/precomputed-trajectories/rpmd/```  <br> \n",
    "```ex-1/precomputed-trajectories/trpmd/```  <br> \n",
    "```ex-1/precomputed-trajectories/cmd/``` <br>\n",
    "\n",
    "\n",
    "Visualize and compare all Fourier transformed functions of dipole and velocities (`.dpl` and `.vv`), as computed from the different methods. Can you spot the spurious resonances in RPMD and the curvature problem in CMD? And do you see that the TRPMD peaks are much broader than the classical ones?"
   ]
  },
  {
   "cell_type": "code",
   "execution_count": null,
   "metadata": {},
   "outputs": [],
   "source": [
    "methods = ['cmd', 'rpmd', 'trpmd', 'nve']\n",
    "os.chdir('ex-1/precomputed-trajectories/')\n",
    "\n",
    "fig,(ax1,ax2) = plt.subplots(1,2, figsize=[15,6])\n",
    "ax1.set_title(r'Fourier transform of the dipole autocorrelation function')\n",
    "for mm in methods:\n",
    "    os.chdir(mm + '/')\n",
    "    dpl = np.loadtxt(mm + '.dpl', usecols=(0,1))\n",
    "    ax1.plot(dplFT[:,0],dplFT[:,1], label = '%s'%mm)\n",
    "    os.chdir('../')\n",
    "ax1.legend()\n",
    "ax1.set_xlim([0,5000])\n",
    "ax1.set_xlabel(r'$\\omega\\ /\\ \\mathrm{cm}^{-1}$')\n",
    "\n",
    "\n",
    "ax2.set_title(r'Fourier transform of the dipole autocorrelation function')\n",
    "for mm in methods:\n",
    "    os.chdir(mm + '/')\n",
    "    dpl = np.loadtxt(mm + '.dpl', usecols=(0,1))\n",
    "    ax2.plot(dpl[:,0],dpl[:,1], label = '%s'%mm)\n",
    "    os.chdir('../')\n",
    "ax2.set_xlim([2700,4500])\n",
    "ax2.set_xlabel(r'$\\omega\\ /\\ \\mathrm{cm}^{-1}$')\n",
    "ax2.legend()\n",
    "\n",
    "plt.tight_layout()\n",
    "plt.show()\n",
    "os.chdir('../../')"
   ]
  },
  {
   "cell_type": "code",
   "execution_count": null,
   "metadata": {},
   "outputs": [],
   "source": [
    "methods = ['cmd', 'rpmd', 'trpmd', 'nve']\n",
    "os.chdir('ex-1/precomputed-trajectories/')\n",
    "\n",
    "fig,(ax1,ax2) = plt.subplots(1,2, figsize=[15,6])\n",
    "ax1.set_title(r'Fourier transform of the velocity autocorrelation function')\n",
    "for mm in methods:\n",
    "    os.chdir(mm + '/')\n",
    "    vel = np.loadtxt(mm + '.vv', usecols=(0,1))\n",
    "    ax1.plot(vel[:,0],vel[:,1], label = '%s'%mm)\n",
    "    os.chdir('../')\n",
    "ax1.legend()\n",
    "ax1.set_xlim([0,5000])\n",
    "ax1.set_xlabel(r'$\\omega\\ /\\ \\mathrm{cm}^{-1}$')\n",
    "\n",
    "\n",
    "ax2.set_title(r'Fourier transform of the velocity autocorrelation function')\n",
    "for mm in methods:\n",
    "    os.chdir(mm + '/')\n",
    "    vel = np.loadtxt(mm + '.vv', usecols=(0,1))\n",
    "    ax2.plot(vel[:,0],vel[:,1], label = '%s'%mm)\n",
    "    os.chdir('../')\n",
    "ax2.set_xlim([2700,4500])\n",
    "ax2.set_xlabel(r'$\\omega\\ /\\ \\mathrm{cm}^{-1}$')\n",
    "ax2.legend()\n",
    "\n",
    "plt.tight_layout()\n",
    "plt.show()\n",
    "os.chdir('../../')"
   ]
  },
  {
   "cell_type": "markdown",
   "metadata": {},
   "source": [
    "<h2>Exercise 2 - Velocity imaginary time correlation function </h2>\n",
    "\n",
    "In this exercise, we will calculate an example of an imaginary time correlation function, namely the velocity-velocity imaginary time correlation. These quantities are exact within the PI formalism and can be computed from PIMD, CMD, RPMD, and TRPMD, always yielding the same result since all these methods preserve ensemble. \n",
    "\n",
    "A direct estimator for the imaginary time correlation function of the imaginary time $i \\lambda_j$, with $\\lambda_j=j\\beta_P\\hbar,\\ j = 0, ..., n − 1$, and $\\lambda_n = \\lambda_0$ is\n",
    "\n",
    "$$c_\\mathrm{vv}(i\\lambda t) = \\sum_k^N\\Big[ \\dfrac{3}{\\beta_P m_k} - \\dfrac{\\omega_P}{P} \\sum_i^{P-1} \\Big\\langle (q_i^{(k)}-q_{i+1}^{(k)})(q_{i+j}^{(k)}-q_{i+j+1}^{(k)})\\Big\\rangle\\Big] $$\n",
    "\n",
    "For hints on the derivation of the equation above, check the appendix of Ref. [4]. This expression can be recast to a centroid virial estimator form that is\n",
    "\n",
    "$$c_\\mathrm{vv}(i\\lambda t) = \\sum_k^N\\Big[ \\dfrac{3}{\\beta m_k} - \\dfrac{1}{P m_k} \\sum_i^{P-1} \\Big\\langle(q_{i+j}^{(k)}-\\overline{q})\\dfrac{dV(q_i^{(k)})}{dq_i^{(k)}}\\Big\\rangle\\Big] $$\n",
    "\n",
    "where $\\overline{q}$ is the centroid position. This is what we will calculate from our simulation. A script to calculate this expression is available in `tools/posforce2imaginaryvv.py`. \n",
    "Run the following commands:\n",
    "\n",
    "```$ cd ex-2``` <br>\n",
    "```$ cp -r ../ex-1/trpmd/dir_* .``` <br>\n",
    "```$ cd dir_*``` <br>\n",
    "```$ python ../../tools/posforce2imaginaryvv.py h2o-ice-trpmd 200```\n",
    "\n",
    "The file generated `h2o-ice-trpmd.imvacf` contains the velocity imaginary time correlation, where the x axis is imaginary time in units of $\\lambda_j\\hbar /(P β \\hbar)$. Plot this quantity. For the temperature we are simulating, we know the imaginary time correlation function through an imaginary time slice from $0\\ \\mathrm{to}\\ \\beta\\hbar = 38.2\\ \\mathrm{fs}$. A more converged imaginary time velocity correlation function is given in `ex-2/precomputed-imvacf/` .\n"
   ]
  },
  {
   "cell_type": "code",
   "execution_count": null,
   "metadata": {},
   "outputs": [],
   "source": [
    "## PLOTTING ##\n",
    "ax,fig = plt.subplots(figsize=(15,6))\n",
    "\n",
    "imvacf = np.loadtxt('ex-2/dir_%d/h2o-ice-trpmd.imvacf'%number, usecols=(0,1))\n",
    "conv_imvacf = np.loadtxt('ex-2/precomputed-imvacf/conv.imvacf', usecols=(0,1))\n",
    "plt.plot(imvacf[:,0], imvacf[:,1], 'o-', ms=3, label=r'calculation')\n",
    "plt.plot(conv_imvacf[:,0], conv_imvacf[:,1], 'o-', ms=3, label=r'converged')\n",
    "plt.xlabel(r'$\\tau\\ /\\ \\lambda_j\\hbar/(P\\beta\\hbar)$', fontsize=14)\n",
    "plt.ylabel(r'$c_\\mathrm{vv}(i\\lambda t)$', fontsize=14)\n",
    "\n",
    "plt.legend()\n",
    "plt.show()"
   ]
  },
  {
   "cell_type": "markdown",
   "metadata": {},
   "source": [
    "<h2>Exercise 3 - Relationship between imaginary and real time correlations</h2>\n",
    "\n",
    "A way to check the quality of the real time autocorrelation function approximated by the PI-based methods (like the ones calculated in <strong> Exercise 1</strong>) is to look at sum rules that connect the real time with the imaginary time correlations. For the velocity real and imaginary time correlations, the relationship is \n",
    "\n",
    "$$c_\\mathrm{vv}(i\\lambda t) = \\int_0^\\infty f(\\lambda,\\omega) F_\\mathrm{vv}(\\omega) d\\omega $$\n",
    "\n",
    "$$f(\\lambda,\\omega) = \\dfrac{\\beta\\hbar\\omega \\cosh({\\beta\\hbar\\omega/2}-\\lambda\\hbar\\omega)}{2\\pi\\sinh({\\beta\\hbar\\omega/2})}$$\n",
    "\n",
    "where $F_\\mathrm{vv}(\\omega)$ is the Fourier transform of the Kubo transformed real time velocity correlation function."
   ]
  },
  {
   "cell_type": "code",
   "execution_count": null,
   "metadata": {},
   "outputs": [],
   "source": [
    "### Plotting the conversion factor, f(lambda,omega)\n",
    "omega = 1\n",
    "betahbar = 38.2\n",
    "\n",
    "def conversionFactor(lmbdahbar, omega):\n",
    "    return betahbar*omega*np.cosh((betahbar/2.-lmbdahbar)*omega)/2./np.pi/np.sinh(betahbar/2.)\n",
    "\n",
    "lmbda = np.linspace(0,betahbar)\n",
    "plt.plot(lmbda, conversionFactor(lmbda, omega), 'r-', label=r'$f(\\lambda, \\omega)$')\n",
    "#plt.legend(loc='upper right')\n",
    "plt.xlabel(r'$\\lambda/\\beta$', fontsize=14)\n",
    "plt.ylabel(r'$f(\\lambda, \\omega)$', fontsize=14)\n",
    "plt.show()"
   ]
  },
  {
   "cell_type": "markdown",
   "metadata": {},
   "source": [
    "In Ref. [5] one can also find the expression that relates the  imaginary time square displacement and the real time velocity correlation function. Ref. [4] and references therein also point to derivations of these expressions. \n",
    "\n",
    "By reconstructing $c_\\mathrm{vv}$ from the vibrational spectra obtained with either TRPMD, RPMD, or CMD, or even  from a simulation with classical nuclei (our NVE) and comparing to the exact $c_\\mathrm{vv}(i\\lambda\\hbar)$ obtained in <strong>Exercise 2</strong>, one can assess (even if indirectly) how large the errors are. \n",
    "In order to reconstruct the imaginary time correlations from real time data we provide the script `tools/get_imacf_from_real.py`. The syntax is:\n",
    "\n",
    "`python get_imacf_from_real.py [name] [temperature] [nslices]`\n",
    "\n",
    "where `nslices` is the number of imaginary time slices (or ''beads'') one wants to reconstruct.\n",
    "\n",
    "In the folder `ex-3/convergedspecs` you will find the files `nve.vv`, `trpmd.vv`, `rpmd.vv`, and `cmd.vv`. Type:\n",
    "\n",
    "```$ cd ex-3/convergedspecs``` <br>\n",
    "```$ python ../../tools/get_imacf_from_real.py nve.vv 200 64 > nve.imvacf``` <br>\n",
    "```$ python ../../tools/get_imacf_from_real.py trpmd.vv 200 64 > trpmd.imvacf``` <br>\n",
    "```$ python ../../tools/get_imacf_from_real.py rpmd.vv 200 64 > rpmd.imvacf``` <br>\n",
    "```$ python ../../tools/get_imacf_from_real.py cmd.vv 200 64 > cmd.imvacf``` \n",
    "\n",
    "Compare all the imaginary time correlations with the one provided in `ex-2/precomputed-imvacf/`.\n",
    "Are the imaginary functions reconstructed from different methods appreciably different? Can you think about reasons for their similarities/differences? (Hint: look at the expressions above.)"
   ]
  },
  {
   "cell_type": "code",
   "execution_count": null,
   "metadata": {},
   "outputs": [],
   "source": [
    "methods = ['cmd', 'rpmd', 'trpmd', 'nve']\n",
    "imvacf = np.loadtxt('ex-2/precomputed-imvacf/conv.imvacf', usecols=(0,1))\n",
    "\n",
    "fig,(ax1,ax2) = plt.subplots(1,2, figsize=[15,6])\n",
    "ax1.plot(imvacf[:,0], imvacf[:,1], 'k-', label=r'imaginary vvacf (ex-2)')\n",
    "for mm in methods:\n",
    "    vv = np.loadtxt('ex-3/convergedspecs/%s.imvacf'%mm, usecols=(0,1))\n",
    "    ax1.plot(vv[:,0], vv[:,1], '-', label=r'%s'%mm)\n",
    "ax1.legend(loc='upper right')\n",
    "ax1.set_xlabel(r'$\\lambda/\\beta$', fontsize=14)\n",
    "ax1.set_ylabel(r'$c_\\mathrm{vv}(i\\lambda t)$', fontsize=14)\n",
    "\n",
    "\n",
    "# panel zoomed in on the tau=0 behaviour\n",
    "ax2.plot(imvacf[:,0], imvacf[:,1], 'ko-', label=r'imaginary vvacf (ex-2)')\n",
    "for mm in methods:\n",
    "    vv = np.loadtxt('ex-3/convergedspecs/%s.imvacf'%mm, usecols=(0,1))\n",
    "    ax2.plot(vv[:,0], vv[:,1], '-o', label=r'%s'%mm)\n",
    "\n",
    "ax2.legend()\n",
    "ax2.set_xlim([0.,0.02])\n",
    "ax2.set_ylim([0.0008,0.0013])\n",
    "ax2.set_xlabel(r'$\\lambda/\\beta$', fontsize=14)\n",
    "ax2.set_ylabel(r'$c_\\mathrm{vv}(i\\lambda t)$', fontsize=14)\n",
    "plt.show() "
   ]
  },
  {
   "cell_type": "markdown",
   "metadata": {},
   "source": [
    "<h2>References</h2>\n",
    "[1] Jianshu Cao and Gregory A Voth. The formulation of quantum statistical mechanics based on the Feynman path centroid density. IV. Algorithms for centroid molecular dynamics. J.  Chem. Phys., 101:6168–6183, <strong>1994</strong>. <br>\n",
    "[2] I R Craig and D E Manolopoulos. Quantum statistics and classical mechanics: Real time  correlation functions from ring polymer molecular dynamics. J. Chem. Phys., 121:3368, <strong>2004</strong>. <br>\n",
    "[3] Mariana Rossi, Michele Ceriotti, and David E Manolopoulos. How to remove the spurious resonances from ring polymer molecular dynamics. J. Chem. Phys., 140:234116, <strong>2014</strong>. <br>\n",
    "[4] Scott Habershon, Bastiaan J Braams, and David E Manolopoulos. Quantum mechanical correlation \n",
    "functions, maximum entropy analytic continuation, and ring polymer molecular dynamics. J. Chem. Phys., 127:174108, <strong>2007</strong>. <br>\n",
    "[5] Mark Tuckerman. Statistical Mechanics and Molecular Simulations. Oxford University Press, <strong>2008</strong>.\n"
   ]
  },
  {
   "cell_type": "code",
   "execution_count": null,
   "metadata": {},
   "outputs": [],
   "source": []
  }
 ],
 "metadata": {
  "kernelspec": {
   "display_name": "Python 3",
   "language": "python",
   "name": "python3"
  },
  "language_info": {
   "codemirror_mode": {
    "name": "ipython",
    "version": 3
   },
   "file_extension": ".py",
   "mimetype": "text/x-python",
   "name": "python",
   "nbconvert_exporter": "python",
   "pygments_lexer": "ipython3",
   "version": "3.8.5"
  }
 },
 "nbformat": 4,
 "nbformat_minor": 4
}
